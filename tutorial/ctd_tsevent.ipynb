{
 "cells": [
  {
   "cell_type": "markdown",
   "metadata": {},
   "source": [
    "# Causal analysis of time-series events with causaltestdata"
   ]
  },
  {
   "cell_type": "code",
   "execution_count": 1,
   "metadata": {},
   "outputs": [],
   "source": [
    "import datetime\n",
    "import networkx as nx\n",
    "from IPython.display import SVG, display\n",
    "\n",
    "import causaltestdata.variable\n",
    "import causaltestdata.tool"
   ]
  },
  {
   "cell_type": "markdown",
   "metadata": {},
   "source": [
    "## Input graph structure and generated data\n",
    "\n",
    "The potential causal structure (usually used as ground truth) is specified in networkx.DiGraph format. Note that the graph structure should be DAG.\n",
    "\n",
    "Defaults indicates the optional settings to determine the behavior of generated data. \n",
    "- \"default_type\": \"tsevent\" if you intend to generate TimeSeriesEvent.\n",
    "- \"tsevent_lambd\": A parameter of event appearance frequency. 10 in default, which means 10 times per day in average.\n",
    "- \"dt_range\": Time-series range. 1 day in default.\n",
    "- \"dt_interval\": Time bin size to generate the data. 1 minute in default, where a value 2 means the event appear twice in a 1 minute bin.  "
   ]
  },
  {
   "cell_type": "code",
   "execution_count": 15,
   "metadata": {},
   "outputs": [],
   "source": [
    "g = nx.DiGraph()\n",
    "g.add_nodes_from([1, 2, 3])\n",
    "g.add_edge(3, 1, weight=0.7)\n",
    "g.add_edge(3, 2, weight=0.5)\n",
    "defaults = {\"default_type\": \"tsevent\",\n",
    "            \"tsevent_lambd\": 100,  # 10 in default\n",
    "            \"dt_range\": (datetime.datetime(2112, 9, 3), datetime.datetime(2112, 9, 4))  # same as default\n",
    "            \"dt_interval\": datetime.timedelta(minutes=1)}  # same as default\n",
    "assert nx.is_directed_acyclic_graph(g)\n",
    "df = causaltestdata.variable.generate_all(g, defaults)"
   ]
  },
  {
   "cell_type": "markdown",
   "metadata": {},
   "source": [
    "- Visualization of the given potential causal structure"
   ]
  },
  {
   "cell_type": "code",
   "execution_count": 16,
   "metadata": {},
   "outputs": [
    {
     "data": {
      "image/svg+xml": [
       "<svg height=\"44pt\" viewBox=\"0.00 0.00 314.00 44.00\" width=\"314pt\" xmlns=\"http://www.w3.org/2000/svg\" xmlns:xlink=\"http://www.w3.org/1999/xlink\">\n",
       "<g class=\"graph\" id=\"graph0\" transform=\"scale(1 1) rotate(0) translate(4 40)\">\n",
       "<polygon fill=\"#ffffff\" points=\"-4,4 -4,-40 310,-40 310,4 -4,4\" stroke=\"transparent\"/>\n",
       "<!-- 3 -->\n",
       "<g class=\"node\" id=\"node1\">\n",
       "<title>3</title>\n",
       "<ellipse cx=\"153\" cy=\"-18\" fill=\"none\" rx=\"27\" ry=\"18\" stroke=\"#000000\"/>\n",
       "<text fill=\"#000000\" font-family=\"Times,serif\" font-size=\"14.00\" text-anchor=\"middle\" x=\"153\" y=\"-14.3\">3</text>\n",
       "</g>\n",
       "<!-- 1 -->\n",
       "<g class=\"node\" id=\"node2\">\n",
       "<title>1</title>\n",
       "<ellipse cx=\"279\" cy=\"-18\" fill=\"none\" rx=\"27\" ry=\"18\" stroke=\"#000000\"/>\n",
       "<text fill=\"#000000\" font-family=\"Times,serif\" font-size=\"14.00\" text-anchor=\"middle\" x=\"279\" y=\"-14.3\">1</text>\n",
       "</g>\n",
       "<!-- 3&#45;&gt;1 -->\n",
       "<g class=\"edge\" id=\"edge1\">\n",
       "<title>3-&gt;1</title>\n",
       "<path d=\"M180.0302,-18C197.9281,-18 221.6509,-18 241.3839,-18\" fill=\"none\" stroke=\"#000000\"/>\n",
       "<polygon fill=\"#000000\" points=\"241.5798,-21.5001 251.5798,-18 241.5797,-14.5001 241.5798,-21.5001\" stroke=\"#000000\"/>\n",
       "<text fill=\"#000000\" font-family=\"Times,serif\" font-size=\"14.00\" text-anchor=\"middle\" x=\"201.707\" y=\"-21.8\">0.7</text>\n",
       "</g>\n",
       "<!-- 2 -->\n",
       "<g class=\"node\" id=\"node3\">\n",
       "<title>2</title>\n",
       "<ellipse cx=\"27\" cy=\"-18\" fill=\"none\" rx=\"27\" ry=\"18\" stroke=\"#000000\"/>\n",
       "<text fill=\"#000000\" font-family=\"Times,serif\" font-size=\"14.00\" text-anchor=\"middle\" x=\"27\" y=\"-14.3\">2</text>\n",
       "</g>\n",
       "<!-- 3&#45;&gt;2 -->\n",
       "<g class=\"edge\" id=\"edge2\">\n",
       "<title>3-&gt;2</title>\n",
       "<path d=\"M125.9698,-18C108.0719,-18 84.3491,-18 64.6161,-18\" fill=\"none\" stroke=\"#000000\"/>\n",
       "<polygon fill=\"#000000\" points=\"64.4203,-14.5001 54.4202,-18 64.4202,-21.5001 64.4203,-14.5001\" stroke=\"#000000\"/>\n",
       "<text fill=\"#000000\" font-family=\"Times,serif\" font-size=\"14.00\" text-anchor=\"middle\" x=\"86.293\" y=\"-21.8\">0.5</text>\n",
       "</g>\n",
       "</g>\n",
       "</svg>"
      ],
      "text/plain": [
       "<IPython.core.display.SVG object>"
      ]
     },
     "metadata": {},
     "output_type": "display_data"
    }
   ],
   "source": [
    "graph = causaltestdata.tool.visual_model(g, defaults)\n",
    "svg = SVG(nx.nx_agraph.to_agraph(graph).draw(prog='circo', format='svg'))\n",
    "display(svg)"
   ]
  },
  {
   "cell_type": "markdown",
   "metadata": {},
   "source": [
    "- Generated time-series data that follows the given causal structure"
   ]
  },
  {
   "cell_type": "code",
   "execution_count": 17,
   "metadata": {},
   "outputs": [
    {
     "data": {
      "text/html": [
       "<div>\n",
       "<style scoped>\n",
       "    .dataframe tbody tr th:only-of-type {\n",
       "        vertical-align: middle;\n",
       "    }\n",
       "\n",
       "    .dataframe tbody tr th {\n",
       "        vertical-align: top;\n",
       "    }\n",
       "\n",
       "    .dataframe thead th {\n",
       "        text-align: right;\n",
       "    }\n",
       "</style>\n",
       "<table border=\"1\" class=\"dataframe\">\n",
       "  <thead>\n",
       "    <tr style=\"text-align: right;\">\n",
       "      <th></th>\n",
       "      <th>1</th>\n",
       "      <th>2</th>\n",
       "      <th>3</th>\n",
       "    </tr>\n",
       "  </thead>\n",
       "  <tbody>\n",
       "    <tr>\n",
       "      <th>2112-09-03 00:00:00</th>\n",
       "      <td>0</td>\n",
       "      <td>0</td>\n",
       "      <td>0</td>\n",
       "    </tr>\n",
       "    <tr>\n",
       "      <th>2112-09-03 00:01:00</th>\n",
       "      <td>0</td>\n",
       "      <td>0</td>\n",
       "      <td>0</td>\n",
       "    </tr>\n",
       "    <tr>\n",
       "      <th>2112-09-03 00:02:00</th>\n",
       "      <td>1</td>\n",
       "      <td>0</td>\n",
       "      <td>1</td>\n",
       "    </tr>\n",
       "    <tr>\n",
       "      <th>2112-09-03 00:03:00</th>\n",
       "      <td>0</td>\n",
       "      <td>0</td>\n",
       "      <td>0</td>\n",
       "    </tr>\n",
       "    <tr>\n",
       "      <th>2112-09-03 00:04:00</th>\n",
       "      <td>1</td>\n",
       "      <td>0</td>\n",
       "      <td>1</td>\n",
       "    </tr>\n",
       "    <tr>\n",
       "      <th>...</th>\n",
       "      <td>...</td>\n",
       "      <td>...</td>\n",
       "      <td>...</td>\n",
       "    </tr>\n",
       "    <tr>\n",
       "      <th>2112-09-03 23:55:00</th>\n",
       "      <td>0</td>\n",
       "      <td>0</td>\n",
       "      <td>0</td>\n",
       "    </tr>\n",
       "    <tr>\n",
       "      <th>2112-09-03 23:56:00</th>\n",
       "      <td>0</td>\n",
       "      <td>1</td>\n",
       "      <td>1</td>\n",
       "    </tr>\n",
       "    <tr>\n",
       "      <th>2112-09-03 23:57:00</th>\n",
       "      <td>0</td>\n",
       "      <td>1</td>\n",
       "      <td>0</td>\n",
       "    </tr>\n",
       "    <tr>\n",
       "      <th>2112-09-03 23:58:00</th>\n",
       "      <td>0</td>\n",
       "      <td>1</td>\n",
       "      <td>0</td>\n",
       "    </tr>\n",
       "    <tr>\n",
       "      <th>2112-09-03 23:59:00</th>\n",
       "      <td>0</td>\n",
       "      <td>0</td>\n",
       "      <td>0</td>\n",
       "    </tr>\n",
       "  </tbody>\n",
       "</table>\n",
       "<p>1440 rows × 3 columns</p>\n",
       "</div>"
      ],
      "text/plain": [
       "                     1  2  3\n",
       "2112-09-03 00:00:00  0  0  0\n",
       "2112-09-03 00:01:00  0  0  0\n",
       "2112-09-03 00:02:00  1  0  1\n",
       "2112-09-03 00:03:00  0  0  0\n",
       "2112-09-03 00:04:00  1  0  1\n",
       "...                 .. .. ..\n",
       "2112-09-03 23:55:00  0  0  0\n",
       "2112-09-03 23:56:00  0  1  1\n",
       "2112-09-03 23:57:00  0  1  0\n",
       "2112-09-03 23:58:00  0  1  0\n",
       "2112-09-03 23:59:00  0  0  0\n",
       "\n",
       "[1440 rows x 3 columns]"
      ]
     },
     "execution_count": 17,
     "metadata": {},
     "output_type": "execute_result"
    }
   ],
   "source": [
    "df"
   ]
  },
  {
   "cell_type": "markdown",
   "metadata": {},
   "source": [
    "## Regression\n",
    "\n",
    "The regression coefficient of node 1 with node 2 is large enough to be considered as correlation."
   ]
  },
  {
   "cell_type": "code",
   "execution_count": 18,
   "metadata": {},
   "outputs": [
    {
     "name": "stdout",
     "output_type": "stream",
     "text": [
      "0.22373628254219624\n"
     ]
    }
   ],
   "source": [
    "from sklearn import linear_model\n",
    "clf = linear_model.LinearRegression()\n",
    "X = df.loc[:, [1]]\n",
    "Y = df[2]\n",
    "clf.fit(X, Y)\n",
    "print(clf.coef_[0])"
   ]
  },
  {
   "cell_type": "markdown",
   "metadata": {},
   "source": [
    "The partial regression coefficient of node 1 with node 2, considering node 3 as another explanation variable, is much smaller than the standard regression coefficient. It means there is a spurious correlation."
   ]
  },
  {
   "cell_type": "code",
   "execution_count": 19,
   "metadata": {},
   "outputs": [
    {
     "name": "stdout",
     "output_type": "stream",
     "text": [
      "0.017386287126330495\n"
     ]
    }
   ],
   "source": [
    "clf = linear_model.LinearRegression()\n",
    "X = df.loc[:, [1, 3]]\n",
    "Y = df[2]\n",
    "clf.fit(X, Y)\n",
    "print(clf.coef_[0])"
   ]
  },
  {
   "cell_type": "markdown",
   "metadata": {},
   "source": [
    "## PC algorithm"
   ]
  },
  {
   "cell_type": "markdown",
   "metadata": {},
   "source": [
    "Here we use the stable-PC algorithm with G square test as the conditional independence test.\n",
    "\n",
    "Python package \"pcalg\" is available in PyPI. See also https://github.com/keiichishima/pcalg.\n",
    "\n",
    "G square test requires binary input, so we binarize the input in advance."
   ]
  },
  {
   "cell_type": "code",
   "execution_count": 22,
   "metadata": {},
   "outputs": [],
   "source": [
    "import pcalg\n",
    "from gsq.ci_tests import ci_test_bin\n",
    "columns = df.columns\n",
    "pc_data_matrix = df.apply(lambda s: s.map(lambda x: 1 if x >= 1 else 0))\n",
    "args = {\"indep_test_func\": ci_test_bin,\n",
    "        \"data_matrix\": pc_data_matrix.values,\n",
    "        \"alpha\": 0.01,\n",
    "        \"method\": \"stable\"}\n",
    "graph, sep_set = pcalg.estimate_skeleton(**args)\n",
    "graph = pcalg.estimate_cpdag(skel_graph=graph, sep_set=sep_set)\n",
    "graph = nx.relabel_nodes(graph, mapping={node: columns[node] for node in graph.nodes()})"
   ]
  },
  {
   "cell_type": "code",
   "execution_count": 23,
   "metadata": {},
   "outputs": [
    {
     "data": {
      "image/svg+xml": [
       "<svg height=\"44pt\" viewBox=\"0.00 0.00 314.00 44.00\" width=\"314pt\" xmlns=\"http://www.w3.org/2000/svg\" xmlns:xlink=\"http://www.w3.org/1999/xlink\">\n",
       "<g class=\"graph\" id=\"graph0\" transform=\"scale(1 1) rotate(0) translate(4 40)\">\n",
       "<polygon fill=\"#ffffff\" points=\"-4,4 -4,-40 310,-40 310,4 -4,4\" stroke=\"transparent\"/>\n",
       "<!-- 1 -->\n",
       "<g class=\"node\" id=\"node1\">\n",
       "<title>1</title>\n",
       "<ellipse cx=\"27\" cy=\"-18\" fill=\"none\" rx=\"27\" ry=\"18\" stroke=\"#000000\"/>\n",
       "<text fill=\"#000000\" font-family=\"Times,serif\" font-size=\"14.00\" text-anchor=\"middle\" x=\"27\" y=\"-14.3\">1</text>\n",
       "</g>\n",
       "<!-- 3 -->\n",
       "<g class=\"node\" id=\"node2\">\n",
       "<title>3</title>\n",
       "<ellipse cx=\"153\" cy=\"-18\" fill=\"none\" rx=\"27\" ry=\"18\" stroke=\"#000000\"/>\n",
       "<text fill=\"#000000\" font-family=\"Times,serif\" font-size=\"14.00\" text-anchor=\"middle\" x=\"153\" y=\"-14.3\">3</text>\n",
       "</g>\n",
       "<!-- 1&#45;&gt;3 -->\n",
       "<g class=\"edge\" id=\"edge1\">\n",
       "<title>1-&gt;3</title>\n",
       "<path d=\"M52.802,-23.5708C71.3179,-24.9104 96.5125,-25.1086 117.0051,-24.1655\" fill=\"none\" stroke=\"#000000\"/>\n",
       "<polygon fill=\"#000000\" points=\"117.4535,-27.6454 127.2325,-23.5683 117.0454,-20.6573 117.4535,-27.6454\" stroke=\"#000000\"/>\n",
       "</g>\n",
       "<!-- 3&#45;&gt;1 -->\n",
       "<g class=\"edge\" id=\"edge3\">\n",
       "<title>3-&gt;1</title>\n",
       "<path d=\"M127.198,-12.4292C108.6821,-11.0896 83.4875,-10.8914 62.9949,-11.8345\" fill=\"none\" stroke=\"#000000\"/>\n",
       "<polygon fill=\"#000000\" points=\"62.5465,-8.3546 52.7675,-12.4317 62.9546,-15.3427 62.5465,-8.3546\" stroke=\"#000000\"/>\n",
       "</g>\n",
       "<!-- 2 -->\n",
       "<g class=\"node\" id=\"node3\">\n",
       "<title>2</title>\n",
       "<ellipse cx=\"279\" cy=\"-18\" fill=\"none\" rx=\"27\" ry=\"18\" stroke=\"#000000\"/>\n",
       "<text fill=\"#000000\" font-family=\"Times,serif\" font-size=\"14.00\" text-anchor=\"middle\" x=\"279\" y=\"-14.3\">2</text>\n",
       "</g>\n",
       "<!-- 3&#45;&gt;2 -->\n",
       "<g class=\"edge\" id=\"edge4\">\n",
       "<title>3-&gt;2</title>\n",
       "<path d=\"M178.802,-23.5708C197.3179,-24.9104 222.5125,-25.1086 243.0051,-24.1655\" fill=\"none\" stroke=\"#000000\"/>\n",
       "<polygon fill=\"#000000\" points=\"243.4535,-27.6454 253.2325,-23.5683 243.0454,-20.6573 243.4535,-27.6454\" stroke=\"#000000\"/>\n",
       "</g>\n",
       "<!-- 2&#45;&gt;3 -->\n",
       "<g class=\"edge\" id=\"edge2\">\n",
       "<title>2-&gt;3</title>\n",
       "<path d=\"M253.198,-12.4292C234.6821,-11.0896 209.4875,-10.8914 188.9949,-11.8345\" fill=\"none\" stroke=\"#000000\"/>\n",
       "<polygon fill=\"#000000\" points=\"188.5465,-8.3546 178.7675,-12.4317 188.9546,-15.3427 188.5465,-8.3546\" stroke=\"#000000\"/>\n",
       "</g>\n",
       "</g>\n",
       "</svg>"
      ],
      "text/plain": [
       "<IPython.core.display.SVG object>"
      ]
     },
     "metadata": {},
     "output_type": "display_data"
    }
   ],
   "source": [
    "svg = SVG(nx.nx_agraph.to_agraph(graph).draw(prog='circo', format='svg'))\n",
    "display(svg)"
   ]
  },
  {
   "cell_type": "markdown",
   "metadata": {},
   "source": [
    "## LiNGAM\n",
    "\n",
    "Here we demonstrate causal discovery with DirectLiNGAM.\n",
    "\n",
    "Python package \"lingam\" is available in PyPI. See also https://github.com/cdt15/lingam."
   ]
  },
  {
   "cell_type": "code",
   "execution_count": 38,
   "metadata": {},
   "outputs": [],
   "source": [
    "import numpy as np\n",
    "import lingam\n",
    "\n",
    "lower_limit = 0.01\n",
    "\n",
    "model = lingam.DirectLiNGAM()\n",
    "model.fit(df)\n",
    "adj = np.nan_to_num(model.adjacency_matrix_)\n",
    "\n",
    "g = nx.DiGraph()\n",
    "for i in range(adj.shape[0]):\n",
    "    g.add_node(df.columns[i])\n",
    "\n",
    "idx = np.abs(adj) > lower_limit\n",
    "dirs = np.where(idx)\n",
    "for to_idx, from_idx, coef in zip(dirs[0], dirs[1], adj[idx]):\n",
    "    to = df.columns[to_idx]\n",
    "    from_ = df.columns[from_idx]\n",
    "    g.add_edge(from_, to, weight=coef, label=str(round(coef, 2)))"
   ]
  },
  {
   "cell_type": "code",
   "execution_count": 39,
   "metadata": {},
   "outputs": [
    {
     "data": {
      "image/svg+xml": [
       "<svg height=\"44pt\" viewBox=\"0.00 0.00 314.00 44.00\" width=\"314pt\" xmlns=\"http://www.w3.org/2000/svg\" xmlns:xlink=\"http://www.w3.org/1999/xlink\">\n",
       "<g class=\"graph\" id=\"graph0\" transform=\"scale(1 1) rotate(0) translate(4 40)\">\n",
       "<polygon fill=\"#ffffff\" points=\"-4,4 -4,-40 310,-40 310,4 -4,4\" stroke=\"transparent\"/>\n",
       "<!-- 3 -->\n",
       "<g class=\"node\" id=\"node1\">\n",
       "<title>3</title>\n",
       "<ellipse cx=\"153\" cy=\"-18\" fill=\"none\" rx=\"27\" ry=\"18\" stroke=\"#000000\"/>\n",
       "<text fill=\"#000000\" font-family=\"Times,serif\" font-size=\"14.00\" text-anchor=\"middle\" x=\"153\" y=\"-14.3\">3</text>\n",
       "</g>\n",
       "<!-- 1 -->\n",
       "<g class=\"node\" id=\"node2\">\n",
       "<title>1</title>\n",
       "<ellipse cx=\"279\" cy=\"-18\" fill=\"none\" rx=\"27\" ry=\"18\" stroke=\"#000000\"/>\n",
       "<text fill=\"#000000\" font-family=\"Times,serif\" font-size=\"14.00\" text-anchor=\"middle\" x=\"279\" y=\"-14.3\">1</text>\n",
       "</g>\n",
       "<!-- 3&#45;&gt;1 -->\n",
       "<g class=\"edge\" id=\"edge1\">\n",
       "<title>3-&gt;1</title>\n",
       "<path d=\"M180.0302,-18C197.9281,-18 221.6509,-18 241.3839,-18\" fill=\"none\" stroke=\"#000000\"/>\n",
       "<polygon fill=\"#000000\" points=\"241.5798,-21.5001 251.5798,-18 241.5797,-14.5001 241.5798,-21.5001\" stroke=\"#000000\"/>\n",
       "<text fill=\"#000000\" font-family=\"Times,serif\" font-size=\"14.00\" text-anchor=\"middle\" x=\"198.207\" y=\"-21.8\">0.66</text>\n",
       "</g>\n",
       "<!-- 2 -->\n",
       "<g class=\"node\" id=\"node3\">\n",
       "<title>2</title>\n",
       "<ellipse cx=\"27\" cy=\"-18\" fill=\"none\" rx=\"27\" ry=\"18\" stroke=\"#000000\"/>\n",
       "<text fill=\"#000000\" font-family=\"Times,serif\" font-size=\"14.00\" text-anchor=\"middle\" x=\"27\" y=\"-14.3\">2</text>\n",
       "</g>\n",
       "<!-- 3&#45;&gt;2 -->\n",
       "<g class=\"edge\" id=\"edge2\">\n",
       "<title>3-&gt;2</title>\n",
       "<path d=\"M125.9698,-18C108.0719,-18 84.3491,-18 64.6161,-18\" fill=\"none\" stroke=\"#000000\"/>\n",
       "<polygon fill=\"#000000\" points=\"64.4203,-14.5001 54.4202,-18 64.4202,-21.5001 64.4203,-14.5001\" stroke=\"#000000\"/>\n",
       "<text fill=\"#000000\" font-family=\"Times,serif\" font-size=\"14.00\" text-anchor=\"middle\" x=\"82.793\" y=\"-21.8\">0.52</text>\n",
       "</g>\n",
       "</g>\n",
       "</svg>"
      ],
      "text/plain": [
       "<IPython.core.display.SVG object>"
      ]
     },
     "metadata": {},
     "output_type": "display_data"
    }
   ],
   "source": [
    "svg = SVG(nx.nx_agraph.to_agraph(g).draw(prog='circo', format='svg'))\n",
    "display(svg)"
   ]
  },
  {
   "cell_type": "code",
   "execution_count": null,
   "metadata": {},
   "outputs": [],
   "source": []
  }
 ],
 "metadata": {
  "kernelspec": {
   "display_name": "Python 3",
   "language": "python",
   "name": "python3"
  },
  "language_info": {
   "codemirror_mode": {
    "name": "ipython",
    "version": 3
   },
   "file_extension": ".py",
   "mimetype": "text/x-python",
   "name": "python",
   "nbconvert_exporter": "python",
   "pygments_lexer": "ipython3",
   "version": "3.6.9"
  }
 },
 "nbformat": 4,
 "nbformat_minor": 4
}
